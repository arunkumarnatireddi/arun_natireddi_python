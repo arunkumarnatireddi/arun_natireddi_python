{
 "cells": [
  {
   "cell_type": "code",
   "execution_count": 2,
   "metadata": {
    "ExecuteTime": {
     "end_time": "2021-02-20T07:16:57.841505Z",
     "start_time": "2021-02-20T07:16:53.115710Z"
    }
   },
   "outputs": [],
   "source": [
    "import numpy as np"
   ]
  },
  {
   "cell_type": "code",
   "execution_count": 3,
   "metadata": {
    "ExecuteTime": {
     "end_time": "2021-02-10T15:46:18.450107Z",
     "start_time": "2021-02-10T15:46:18.357051Z"
    }
   },
   "outputs": [
    {
     "name": "stdout",
     "output_type": "stream",
     "text": [
      "[20 22 24]\n"
     ]
    }
   ],
   "source": [
    "arr1 = np.arange(20,26,2)\n",
    "arr1\n",
    "print(arr1) #printing array1 with print might cause cinfuison wheter it is a list or array"
   ]
  },
  {
   "cell_type": "code",
   "execution_count": 14,
   "metadata": {
    "ExecuteTime": {
     "end_time": "2021-02-08T15:00:59.366471Z",
     "start_time": "2021-02-08T15:00:59.343455Z"
    }
   },
   "outputs": [
    {
     "data": {
      "text/plain": [
       "array([0, 1, 2, 3, 4, 5, 6, 7, 8, 9])"
      ]
     },
     "execution_count": 14,
     "metadata": {},
     "output_type": "execute_result"
    }
   ],
   "source": [
    "arr1 =np.arange(10000)\n",
    "arr1 ##...... will be displayed to print function limitation to overcome this\n",
    "\n",
    "import sys\n",
    "np.set_printoptions(threshold=sys.maxsize)\n",
    "arr2 =np.arange(10000)\n",
    "arr2"
   ]
  },
  {
   "cell_type": "code",
   "execution_count": 22,
   "metadata": {
    "ExecuteTime": {
     "end_time": "2021-02-08T15:02:54.169553Z",
     "start_time": "2021-02-08T15:02:54.143535Z"
    }
   },
   "outputs": [
    {
     "data": {
      "text/plain": [
       "array([[ 0,  1,  2,  3,  4,  5,  6,  7,  8,  9, 10, 11, 12, 13, 14, 15,\n",
       "        16, 17, 18, 19],\n",
       "       [20, 21, 22, 23, 24, 25, 26, 27, 28, 29, 30, 31, 32, 33, 34, 35,\n",
       "        36, 37, 38, 39],\n",
       "       [40, 41, 42, 43, 44, 45, 46, 47, 48, 49, 50, 51, 52, 53, 54, 55,\n",
       "        56, 57, 58, 59],\n",
       "       [60, 61, 62, 63, 64, 65, 66, 67, 68, 69, 70, 71, 72, 73, 74, 75,\n",
       "        76, 77, 78, 79],\n",
       "       [80, 81, 82, 83, 84, 85, 86, 87, 88, 89, 90, 91, 92, 93, 94, 95,\n",
       "        96, 97, 98, 99]])"
      ]
     },
     "execution_count": 22,
     "metadata": {},
     "output_type": "execute_result"
    }
   ],
   "source": [
    "arr2 =np.arange(100).reshape(5,20)\n",
    "arr2"
   ]
  },
  {
   "cell_type": "markdown",
   "metadata": {},
   "source": [
    "# Reshaping Array"
   ]
  },
  {
   "cell_type": "code",
   "execution_count": 24,
   "metadata": {
    "ExecuteTime": {
     "end_time": "2021-02-08T15:04:24.118488Z",
     "start_time": "2021-02-08T15:04:24.102483Z"
    }
   },
   "outputs": [
    {
     "data": {
      "text/plain": [
       "array([[ 0,  1,  2,  3,  4],\n",
       "       [ 5,  6,  7,  8,  9],\n",
       "       [10, 11, 12, 13, 14],\n",
       "       [15, 16, 17, 18, 19],\n",
       "       [20, 21, 22, 23, 24],\n",
       "       [25, 26, 27, 28, 29]])"
      ]
     },
     "execution_count": 24,
     "metadata": {},
     "output_type": "execute_result"
    }
   ],
   "source": [
    "arr3=np.arange(30).reshape(6,5)\n",
    "arr3"
   ]
  },
  {
   "cell_type": "code",
   "execution_count": 31,
   "metadata": {
    "ExecuteTime": {
     "end_time": "2021-02-08T15:07:11.678777Z",
     "start_time": "2021-02-08T15:07:11.656761Z"
    },
    "scrolled": true
   },
   "outputs": [
    {
     "data": {
      "text/plain": [
       "array([[ 0,  1,  2,  3,  4,  5,  6,  7,  8,  9, 10, 11, 12, 13, 14, 15,\n",
       "        16, 17, 18, 19],\n",
       "       [20, 21, 22, 23, 24, 25, 26, 27, 28, 29, 30, 31, 32, 33, 34, 35,\n",
       "        36, 37, 38, 39],\n",
       "       [40, 41, 42, 43, 44, 45, 46, 47, 48, 49, 50, 51, 52, 53, 54, 55,\n",
       "        56, 57, 58, 59],\n",
       "       [60, 61, 62, 63, 64, 65, 66, 67, 68, 69, 70, 71, 72, 73, 74, 75,\n",
       "        76, 77, 78, 79],\n",
       "       [80, 81, 82, 83, 84, 85, 86, 87, 88, 89, 90, 91, 92, 93, 94, 95,\n",
       "        96, 97, 98, 99]])"
      ]
     },
     "execution_count": 31,
     "metadata": {},
     "output_type": "execute_result"
    }
   ],
   "source": [
    "arr4 = np.arange(100).reshape(-1,20)#corrensponding row or column number will be calulated automatically if -1 is used\n",
    "arr4"
   ]
  },
  {
   "cell_type": "code",
   "execution_count": 33,
   "metadata": {
    "ExecuteTime": {
     "end_time": "2021-02-08T15:12:18.663143Z",
     "start_time": "2021-02-08T15:12:18.643141Z"
    }
   },
   "outputs": [
    {
     "data": {
      "text/plain": [
       "array(['AP', 'PR', 'QR', 'CK', 'GT', 'LM', 'NK', 'NA', 'LO', 'SQ', 'AR',\n",
       "       'BP'], dtype='<U2')"
      ]
     },
     "execution_count": 33,
     "metadata": {},
     "output_type": "execute_result"
    }
   ],
   "source": [
    "arr5 = np.array(['AP','PR','QR','CK','GT','LM','NK','NA','LO','SQ','AR','BP'])\n",
    "arr5 #U2 string object data type representation in numpy array"
   ]
  },
  {
   "cell_type": "code",
   "execution_count": 35,
   "metadata": {
    "ExecuteTime": {
     "end_time": "2021-02-08T15:13:29.000961Z",
     "start_time": "2021-02-08T15:13:28.984950Z"
    }
   },
   "outputs": [
    {
     "data": {
      "text/plain": [
       "array([['AP', 'CK', 'NK', 'SQ'],\n",
       "       ['PR', 'GT', 'NA', 'AR'],\n",
       "       ['QR', 'LM', 'LO', 'BP']], dtype='<U2')"
      ]
     },
     "execution_count": 35,
     "metadata": {},
     "output_type": "execute_result"
    }
   ],
   "source": [
    "arr5.reshape(4,-1).T #Transpose of a matrix 4X3 to 3X4 here"
   ]
  },
  {
   "cell_type": "code",
   "execution_count": 37,
   "metadata": {
    "ExecuteTime": {
     "end_time": "2021-02-08T15:24:50.877585Z",
     "start_time": "2021-02-08T15:24:50.857570Z"
    }
   },
   "outputs": [
    {
     "data": {
      "text/plain": [
       "array([['AP', 'PR', 'QR'],\n",
       "       ['CK', 'GT', 'LM'],\n",
       "       ['NK', 'NA', 'LO'],\n",
       "       ['SQ', 'AR', 'BP']], dtype='<U2')"
      ]
     },
     "execution_count": 37,
     "metadata": {},
     "output_type": "execute_result"
    }
   ],
   "source": [
    "np.reshape(arr5,(4,-1),order='C') #Row wise fill or also known as Row Major Form"
   ]
  },
  {
   "cell_type": "code",
   "execution_count": 39,
   "metadata": {
    "ExecuteTime": {
     "end_time": "2021-02-08T15:26:35.517246Z",
     "start_time": "2021-02-08T15:26:35.498228Z"
    }
   },
   "outputs": [
    {
     "data": {
      "text/plain": [
       "array([['AP', 'GT', 'LO'],\n",
       "       ['PR', 'LM', 'SQ'],\n",
       "       ['QR', 'NK', 'AR'],\n",
       "       ['CK', 'NA', 'BP']], dtype='<U2')"
      ]
     },
     "execution_count": 39,
     "metadata": {},
     "output_type": "execute_result"
    }
   ],
   "source": [
    "np.reshape(arr5,(4,-1),order='F')#Column wise fill or also known as column major form"
   ]
  },
  {
   "cell_type": "markdown",
   "metadata": {},
   "source": [
    "# Basic Operations"
   ]
  },
  {
   "cell_type": "code",
   "execution_count": 45,
   "metadata": {
    "ExecuteTime": {
     "end_time": "2021-02-08T15:41:44.069075Z",
     "start_time": "2021-02-08T15:41:44.028047Z"
    }
   },
   "outputs": [
    {
     "name": "stdout",
     "output_type": "stream",
     "text": [
      "[12 22 32 42 52]\n",
      "[ 20  40  60  80 100]\n",
      "[0 0 0 0 0]\n",
      "[ 100  400  900 1600 2500]\n",
      "[False False False  True  True]\n"
     ]
    },
    {
     "data": {
      "text/plain": [
       "array([0.17364818, 0.34202014, 0.5       , 0.64278761, 0.76604444])"
      ]
     },
     "execution_count": 45,
     "metadata": {},
     "output_type": "execute_result"
    }
   ],
   "source": [
    "arr1=np.array([10,20,30,40,50])\n",
    "print(arr1+2)\n",
    "print(arr1*2)#Scalar product\n",
    "print(arr1%2)\n",
    "print(arr1**2)\n",
    "print(arr1>30)\n",
    "#Functions\n",
    "np.sqrt(arr1)\n",
    "np.log(arr1)\n",
    "np.sin(arr1*np.pi/180)\n"
   ]
  },
  {
   "cell_type": "code",
   "execution_count": 50,
   "metadata": {
    "ExecuteTime": {
     "end_time": "2021-02-08T16:07:56.207902Z",
     "start_time": "2021-02-08T16:07:56.173886Z"
    }
   },
   "outputs": [
    {
     "data": {
      "text/plain": [
       "array([[ 700,  700],\n",
       "       [1700, 1700]])"
      ]
     },
     "execution_count": 50,
     "metadata": {},
     "output_type": "execute_result"
    }
   ],
   "source": [
    "#Dot product of matrix\n",
    "\n",
    "arr1=np.array([[10,20],[30,40]])\n",
    "arr2=np.array([[30,30],[20,20]])\n",
    "arr1.dot(arr2)\n"
   ]
  },
  {
   "cell_type": "code",
   "execution_count": 72,
   "metadata": {
    "ExecuteTime": {
     "end_time": "2021-02-08T16:24:51.008574Z",
     "start_time": "2021-02-08T16:24:50.984564Z"
    }
   },
   "outputs": [
    {
     "data": {
      "text/plain": [
       "array([[ 700,  700],\n",
       "       [1700, 1700]])"
      ]
     },
     "execution_count": 72,
     "metadata": {},
     "output_type": "execute_result"
    }
   ],
   "source": [
    "#To modify existing array\n",
    "arr1=np.array([[10,20],[30,40]])\n",
    "arr2=np.array([[30,30],[20,20]])\n",
    "arr1 =arr1.dot(arr2)\n",
    "arr1"
   ]
  },
  {
   "cell_type": "code",
   "execution_count": 54,
   "metadata": {
    "ExecuteTime": {
     "end_time": "2021-02-08T16:10:27.911610Z",
     "start_time": "2021-02-08T16:10:27.892597Z"
    }
   },
   "outputs": [
    {
     "data": {
      "text/plain": [
       "20"
      ]
     },
     "execution_count": 54,
     "metadata": {},
     "output_type": "execute_result"
    }
   ],
   "source": [
    "#unary Operations - sum,max,min\n",
    "np.sum(arr2)\n",
    "np.max(arr2)\n",
    "np.min(arr2)\n"
   ]
  },
  {
   "cell_type": "code",
   "execution_count": 63,
   "metadata": {
    "ExecuteTime": {
     "end_time": "2021-02-08T16:17:25.435625Z",
     "start_time": "2021-02-08T16:17:25.418613Z"
    }
   },
   "outputs": [
    {
     "data": {
      "text/plain": [
       "array([[25, 26, 27, 28, 29],\n",
       "       [30, 31, 32, 33, 34],\n",
       "       [35, 36, 37, 38, 39],\n",
       "       [40, 41, 42, 43, 44],\n",
       "       [45, 46, 47, 48, 49]])"
      ]
     },
     "execution_count": 63,
     "metadata": {},
     "output_type": "execute_result"
    }
   ],
   "source": [
    "arr5=np.arange(25,50).reshape(5,-1)\n",
    "arr5"
   ]
  },
  {
   "cell_type": "code",
   "execution_count": 67,
   "metadata": {
    "ExecuteTime": {
     "end_time": "2021-02-08T16:18:17.035953Z",
     "start_time": "2021-02-08T16:18:17.014944Z"
    }
   },
   "outputs": [
    {
     "data": {
      "text/plain": [
       "array([175, 180, 185, 190, 195])"
      ]
     },
     "execution_count": 67,
     "metadata": {},
     "output_type": "execute_result"
    }
   ],
   "source": [
    "#Sum along row wise or column wise\n",
    "np.sum(arr5,axis = 1) #rowwise\n",
    "np.sum(arr5,axis=0)#columnwise"
   ]
  },
  {
   "cell_type": "code",
   "execution_count": 69,
   "metadata": {
    "ExecuteTime": {
     "end_time": "2021-02-08T16:19:10.191494Z",
     "start_time": "2021-02-08T16:19:10.174488Z"
    }
   },
   "outputs": [
    {
     "data": {
      "text/plain": [
       "array([29, 34, 39, 44, 49])"
      ]
     },
     "execution_count": 69,
     "metadata": {},
     "output_type": "execute_result"
    }
   ],
   "source": [
    "#max along column or row wise\n",
    "np.max(arr5,axis=1)\n",
    "#similary of "
   ]
  },
  {
   "cell_type": "markdown",
   "metadata": {},
   "source": [
    "# Universal Functions"
   ]
  },
  {
   "cell_type": "code",
   "execution_count": 4,
   "metadata": {
    "ExecuteTime": {
     "end_time": "2021-02-10T15:49:25.942835Z",
     "start_time": "2021-02-10T15:49:25.925828Z"
    }
   },
   "outputs": [],
   "source": [
    "#add\n",
    "#multiply,radian ,sin,cos and many print(dir(np)) to know all the different methods\n",
    "arr1=np.array([[10,20],[20,30]])\n",
    "arr2=np.array([[10,20],[20,30]])"
   ]
  },
  {
   "cell_type": "code",
   "execution_count": 5,
   "metadata": {
    "ExecuteTime": {
     "end_time": "2021-02-10T15:49:47.300362Z",
     "start_time": "2021-02-10T15:49:47.284350Z"
    }
   },
   "outputs": [
    {
     "name": "stdout",
     "output_type": "stream",
     "text": [
      "[[20 40]\n",
      " [40 60]]\n"
     ]
    }
   ],
   "source": [
    "print(np.add(arr1,arr2))"
   ]
  },
  {
   "cell_type": "code",
   "execution_count": 7,
   "metadata": {
    "ExecuteTime": {
     "end_time": "2021-02-10T15:51:13.726534Z",
     "start_time": "2021-02-10T15:51:13.708522Z"
    }
   },
   "outputs": [
    {
     "name": "stdout",
     "output_type": "stream",
     "text": [
      "[[100 400]\n",
      " [400 900]]\n"
     ]
    }
   ],
   "source": [
    "print(np.multiply(arr1,arr2))\n",
    "#print(dir(np))"
   ]
  },
  {
   "cell_type": "markdown",
   "metadata": {},
   "source": [
    "# Brodacasting"
   ]
  },
  {
   "cell_type": "code",
   "execution_count": null,
   "metadata": {},
   "outputs": [],
   "source": [
    "#Atleast one array should be of single dimension\n",
    "#No.of elements in single dimension array and no of columns in multi dimensinal array should be same - Row wise broad casting\n",
    "\n",
    "#Ex-1X5 broadcasting with 6X5 is possible and the resultant matrix will be 6X5\n",
    "\n",
    "#5X1 broadcasting with 6X5 is possible and the resultant will be 6X1 so 6X5 and 5X1 will form a 6\n",
    "\n",
    "General Principle:\n",
    "\n"
   ]
  },
  {
   "cell_type": "code",
   "execution_count": 38,
   "metadata": {
    "ExecuteTime": {
     "end_time": "2021-02-10T16:24:42.164166Z",
     "start_time": "2021-02-10T16:24:42.141151Z"
    }
   },
   "outputs": [
    {
     "name": "stdout",
     "output_type": "stream",
     "text": [
      "(6, 5)\n",
      "(6, 1)\n"
     ]
    },
    {
     "data": {
      "text/plain": [
       "array([[0],\n",
       "       [1],\n",
       "       [2],\n",
       "       [3],\n",
       "       [4],\n",
       "       [5]])"
      ]
     },
     "execution_count": 38,
     "metadata": {},
     "output_type": "execute_result"
    }
   ],
   "source": [
    "arr1=np.arange(30).reshape(6,-1)\n",
    "print(arr1.shape) \n",
    "arr2=np.arange(6).reshape(6,1)\n",
    "print(arr2.shape)\n",
    "arr2"
   ]
  },
  {
   "cell_type": "markdown",
   "metadata": {},
   "source": [
    "# Statistical Functions"
   ]
  },
  {
   "cell_type": "code",
   "execution_count": null,
   "metadata": {},
   "outputs": [],
   "source": [
    "# # mean,median,Standar deviation, variance ,, can be performed on arrays\n",
    "\n",
    "# np.mean(arr1)\n",
    "# np.std()\n",
    "# np.var()"
   ]
  },
  {
   "cell_type": "markdown",
   "metadata": {},
   "source": [
    "# Indexing and Slicing"
   ]
  },
  {
   "cell_type": "code",
   "execution_count": null,
   "metadata": {},
   "outputs": [],
   "source": [
    "#Array Supports positive and negatiev indexing"
   ]
  },
  {
   "cell_type": "code",
   "execution_count": 3,
   "metadata": {
    "ExecuteTime": {
     "end_time": "2021-02-20T07:17:02.640261Z",
     "start_time": "2021-02-20T07:17:02.450135Z"
    }
   },
   "outputs": [
    {
     "data": {
      "text/plain": [
       "array([20, 21, 22, 23, 24, 25])"
      ]
     },
     "execution_count": 3,
     "metadata": {},
     "output_type": "execute_result"
    }
   ],
   "source": [
    "arr1=np.arange(20,26)\n",
    "arr1\n"
   ]
  },
  {
   "cell_type": "code",
   "execution_count": 4,
   "metadata": {
    "ExecuteTime": {
     "end_time": "2021-02-20T07:17:12.930637Z",
     "start_time": "2021-02-20T07:17:12.860590Z"
    }
   },
   "outputs": [
    {
     "name": "stdout",
     "output_type": "stream",
     "text": [
      "20\n",
      "25\n",
      "22\n",
      "[20 21 22 23 24 25]\n",
      "[25 24 23 22 21 20]\n",
      "[20 22 24]\n",
      "[24 22]\n"
     ]
    }
   ],
   "source": [
    "#I-d Array\n",
    "#Indexing\n",
    "print(arr1[0])\n",
    "print(arr1[-1])\n",
    "print(arr1[2])\n",
    "\n",
    "#Slicinig\n",
    "\n",
    "print(arr1[::])\n",
    "print(arr1[::-1])\n",
    "print(arr1[::2])\n",
    "print(arr1[-2:-5:-2])"
   ]
  },
  {
   "cell_type": "code",
   "execution_count": 57,
   "metadata": {
    "ExecuteTime": {
     "end_time": "2021-02-10T17:06:38.429116Z",
     "start_time": "2021-02-10T17:06:38.410104Z"
    }
   },
   "outputs": [
    {
     "data": {
      "text/plain": [
       "array([[25, 26, 27, 28, 29],\n",
       "       [30, 31, 32, 33, 34],\n",
       "       [35, 36, 37, 38, 39],\n",
       "       [40, 41, 42, 43, 44],\n",
       "       [45, 46, 47, 48, 49]])"
      ]
     },
     "execution_count": 57,
     "metadata": {},
     "output_type": "execute_result"
    }
   ],
   "source": [
    "#2-D array\n",
    "arr1 = np.arange(25,50).reshape(5,-1)\n",
    "arr1.shape\n",
    "arr1"
   ]
  },
  {
   "cell_type": "code",
   "execution_count": 59,
   "metadata": {
    "ExecuteTime": {
     "end_time": "2021-02-10T17:10:04.529609Z",
     "start_time": "2021-02-10T17:10:04.510596Z"
    }
   },
   "outputs": [
    {
     "data": {
      "text/plain": [
       "37"
      ]
     },
     "execution_count": 59,
     "metadata": {},
     "output_type": "execute_result"
    }
   ],
   "source": [
    "#Indexing\n",
    "arr1[2]\n",
    "arr1[2][2]\n",
    "arr1[2,2]\n",
    "#But for acessing whole column we have to go with slicing\n"
   ]
  },
  {
   "cell_type": "code",
   "execution_count": 77,
   "metadata": {
    "ExecuteTime": {
     "end_time": "2021-02-10T17:21:04.656326Z",
     "start_time": "2021-02-10T17:21:04.635306Z"
    }
   },
   "outputs": [
    {
     "data": {
      "text/plain": [
       "array([[27, 29],\n",
       "       [37, 39],\n",
       "       [47, 49]])"
      ]
     },
     "execution_count": 77,
     "metadata": {},
     "output_type": "execute_result"
    }
   ],
   "source": [
    "arr1[:,2:3] # all rows,from start to stop range of columns\n",
    "arr1[2:4,2:4]\n",
    "arr1[0:5:2,2:5:2]"
   ]
  },
  {
   "cell_type": "code",
   "execution_count": null,
   "metadata": {},
   "outputs": [],
   "source": []
  },
  {
   "cell_type": "code",
   "execution_count": null,
   "metadata": {},
   "outputs": [],
   "source": []
  },
  {
   "cell_type": "code",
   "execution_count": null,
   "metadata": {},
   "outputs": [],
   "source": []
  },
  {
   "cell_type": "code",
   "execution_count": null,
   "metadata": {},
   "outputs": [],
   "source": []
  },
  {
   "cell_type": "code",
   "execution_count": null,
   "metadata": {},
   "outputs": [],
   "source": []
  },
  {
   "cell_type": "code",
   "execution_count": null,
   "metadata": {},
   "outputs": [],
   "source": []
  }
 ],
 "metadata": {
  "kernelspec": {
   "display_name": "Python 3",
   "language": "python",
   "name": "python3"
  },
  "language_info": {
   "codemirror_mode": {
    "name": "ipython",
    "version": 3
   },
   "file_extension": ".py",
   "mimetype": "text/x-python",
   "name": "python",
   "nbconvert_exporter": "python",
   "pygments_lexer": "ipython3",
   "version": "3.8.5"
  },
  "latex_envs": {
   "LaTeX_envs_menu_present": true,
   "autoclose": false,
   "autocomplete": true,
   "bibliofile": "biblio.bib",
   "cite_by": "apalike",
   "current_citInitial": 1,
   "eqLabelWithNumbers": true,
   "eqNumInitial": 1,
   "hotkeys": {
    "equation": "Ctrl-E",
    "itemize": "Ctrl-I"
   },
   "labels_anchors": false,
   "latex_user_defs": false,
   "report_style_numbering": false,
   "user_envs_cfg": false
  }
 },
 "nbformat": 4,
 "nbformat_minor": 4
}
